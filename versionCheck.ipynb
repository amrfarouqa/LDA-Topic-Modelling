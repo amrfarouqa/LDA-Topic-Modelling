{
 "cells": [
  {
   "cell_type": "code",
   "execution_count": null,
   "metadata": {},
   "outputs": [],
   "source": [
    "import importlib\n",
    "\n",
    "def check_package_installed(package_name):\n",
    "    spec = importlib.util.find_spec(package_name)\n",
    "    if spec is not None:\n",
    "        print(f\"{package_name} is installed.\")\n",
    "    else:\n",
    "        print(f\"{package_name} is not installed.\")\n",
    "\n",
    "packages = ['pandas', 'sklearn', 'matplotlib', 'math']\n",
    "\n",
    "for package in packages:\n",
    "    check_package_installed(package)    "
   ]
  }
 ],
 "metadata": {
  "kernelspec": {
   "display_name": "MMI",
   "language": "python",
   "name": "python3"
  },
  "language_info": {
   "codemirror_mode": {
    "name": "ipython",
    "version": 3
   },
   "file_extension": ".py",
   "mimetype": "text/x-python",
   "name": "python",
   "nbconvert_exporter": "python",
   "pygments_lexer": "ipython3",
   "version": "3.9.16"
  }
 },
 "nbformat": 4,
 "nbformat_minor": 2
}
